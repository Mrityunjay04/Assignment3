{
 "cells": [
  {
   "cell_type": "code",
   "execution_count": 3,
   "id": "5a97d758",
   "metadata": {},
   "outputs": [
    {
     "name": "stdout",
     "output_type": "stream",
     "text": [
      "My Reduce Output is: 21600\n"
     ]
    }
   ],
   "source": [
    "def myreduce(func, values):\n",
    "    result = values[0]\n",
    "    for i in values[1:]:\n",
    "        result = func(result, i)\n",
    "    return result\n",
    "def func(a, b):\n",
    "    return a * b\n",
    "l = [2,5,6,1,8,3,15]\n",
    "print(f\"My Reduce Output is: {myreduce(func, l)}\")"
   ]
  },
  {
   "cell_type": "code",
   "execution_count": 5,
   "id": "5cb213ef",
   "metadata": {},
   "outputs": [
    {
     "name": "stdout",
     "output_type": "stream",
     "text": [
      "My Filter Output is: [15, 60]\n"
     ]
    }
   ],
   "source": [
    "def myfilter(fun, values):\n",
    "    result = list()\n",
    "    for i in values:\n",
    "        if fun(i):\n",
    "            result.append(i)\n",
    "    return result\n",
    "def fun(x):\n",
    "    if x % 5 == 0:\n",
    "        return True\n",
    "    else:\n",
    "        return False\n",
    "lst = [12, 15, 60, 34, 53]\n",
    "print(f\"My Filter Output is: {myfilter(fun, lst)}\")"
   ]
  },
  {
   "cell_type": "code",
   "execution_count": 6,
   "id": "ab98c6a5",
   "metadata": {},
   "outputs": [
    {
     "data": {
      "text/plain": [
       "[(1, 1), (2, 1), (3, 1), (1, 2), (2, 2), (3, 2), (1, 3), (2, 3), (3, 3)]"
      ]
     },
     "execution_count": 6,
     "metadata": {},
     "output_type": "execute_result"
    }
   ],
   "source": [
    "l1 = ['x', 'y', 'z']\n",
    "lst1 = [i*j for j in l1 for i in range(1, 5)]\n",
    "lst1\n"
   ]
  },
  {
   "cell_type": "code",
   "execution_count": 7,
   "id": "b033ef01",
   "metadata": {},
   "outputs": [
    {
     "data": {
      "text/plain": [
       "['x', 'y', 'z', 'xx', 'yy', 'zz', 'xxx', 'yyy', 'zzz', 'xxxx', 'yyyy', 'zzzz']"
      ]
     },
     "execution_count": 7,
     "metadata": {},
     "output_type": "execute_result"
    }
   ],
   "source": [
    "l2 = ['x', 'y', 'z']\n",
    "lst2 = [i*j for j in range(1, 5) for i in l2]\n",
    "lst2\n"
   ]
  },
  {
   "cell_type": "code",
   "execution_count": 8,
   "id": "851a531e",
   "metadata": {},
   "outputs": [
    {
     "data": {
      "text/plain": [
       "[[2], [3], [4], [3], [4], [5], [4], [5], [6]]"
      ]
     },
     "execution_count": 8,
     "metadata": {},
     "output_type": "execute_result"
    }
   ],
   "source": [
    "lst3 = [[x + y] for y in range(3) for x in range(2, 5)]\n",
    "lst3\n"
   ]
  },
  {
   "cell_type": "code",
   "execution_count": 9,
   "id": "cfc67747",
   "metadata": {},
   "outputs": [
    {
     "data": {
      "text/plain": [
       "[[2, 3, 4, 5], [3, 4, 5, 6], [4, 5, 6, 7], [5, 6, 7, 8]]"
      ]
     },
     "execution_count": 9,
     "metadata": {},
     "output_type": "execute_result"
    }
   ],
   "source": [
    "lst4 = [[a+b for b in range(2, 6)] for a in range(4)]\n",
    "lst4\n"
   ]
  },
  {
   "cell_type": "code",
   "execution_count": 10,
   "id": "5477667a",
   "metadata": {},
   "outputs": [
    {
     "data": {
      "text/plain": [
       "[(1, 1), (2, 1), (3, 1), (1, 2), (2, 2), (3, 2), (1, 3), (2, 3), (3, 3)]"
      ]
     },
     "execution_count": 10,
     "metadata": {},
     "output_type": "execute_result"
    }
   ],
   "source": [
    "lst5 = [(p, q) for q in range(1, 4) for p in range(1, 4)]\n",
    "lst5"
   ]
  },
  {
   "cell_type": "code",
   "execution_count": null,
   "id": "6b4ce207",
   "metadata": {},
   "outputs": [],
   "source": []
  }
 ],
 "metadata": {
  "kernelspec": {
   "display_name": "Python 3",
   "language": "python",
   "name": "python3"
  },
  "language_info": {
   "codemirror_mode": {
    "name": "ipython",
    "version": 3
   },
   "file_extension": ".py",
   "mimetype": "text/x-python",
   "name": "python",
   "nbconvert_exporter": "python",
   "pygments_lexer": "ipython3",
   "version": "3.8.8"
  }
 },
 "nbformat": 4,
 "nbformat_minor": 5
}
